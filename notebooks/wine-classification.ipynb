{
 "cells": [
  {
   "cell_type": "markdown",
   "metadata": {},
   "source": [
    "### Repositório do Projeto\n",
    "\n",
    "O código-fonte completo deste projeto está disponível no GitHub no link abaixo: \n",
    "\n",
    "[Repositório no GitHub](https://github.com/ronaldobresende/wine-quality)\n",
    "\n",
    "https://github.com/ronaldobresende/wine-quality\n",
    "\n",
    "Ronaldo Barbosa Resende"
   ]
  },
  {
   "cell_type": "markdown",
   "metadata": {},
   "source": [
    "# Módulo do Kaggle Intro to Machine Learning\n",
    "Certificado de conclusão do módulo\n",
    "\n",
    "![Certificado de Introdução ao Machine Learning - Kaggle](certificateintro-to-machine-learning-kaggle.png)"
   ]
  },
  {
   "cell_type": "markdown",
   "metadata": {},
   "source": [
    "### Base de dados de vinhos verdes portugueses - Problema a Ser Resolvido\n",
    "\n",
    "O objetivo deste projeto é criar um modelo de classificação como diferentes abordagnes de machile learning, como regressão logística, árvores de decisão e dvm para prever a qualidade dos vinhos com base em suas características químicas. A base de dados contém informações sobre vinhos brancos e tintos, e a variável alvo é a qualidade do vinho, que será transformada em uma variável binária (bom ou ruim).\n",
    "\n",
    "\n",
    "### Diferença entre Regressão Linear e Regressão Logística\n",
    "\n",
    "- **Regressão Linear**: É usada para prever um valor contínuo. A relação entre a variável dependente e as variáveis independentes é modelada como uma linha reta.\n",
    "- **Regressão Logística**: É usada para prever um valor categórico (binário). A relação entre a variável dependente e as variáveis independentes é modelada usando a função logística (sigmoide), que mapeia os valores para uma probabilidade entre 0 e 1."
   ]
  },
  {
   "cell_type": "markdown",
   "metadata": {},
   "source": [
    "# Importar Bibliotecas Necessárias\n",
    "Importar as bibliotecas necessárias, incluindo pandas, numpy, scikit-learn, etc."
   ]
  },
  {
   "cell_type": "code",
   "execution_count": 1,
   "metadata": {},
   "outputs": [],
   "source": [
    "# Importar Bibliotecas Necessárias\n",
    "\n",
    "import warnings\n",
    "import pandas as pd\n",
    "import numpy as np\n",
    "from sklearn.model_selection import train_test_split\n",
    "from sklearn.model_selection import StratifiedKFold, cross_val_score\n",
    "from sklearn.linear_model import LogisticRegression\n",
    "from sklearn.tree import DecisionTreeClassifier\n",
    "from sklearn.svm import SVC\n",
    "from sklearn.metrics import accuracy_score, precision_score, recall_score, f1_score, roc_curve, auc\n",
    "import matplotlib.pyplot as plt\n",
    "import seaborn as sns\n",
    "from sklearn.impute import SimpleImputer\n",
    "from IPython.display import Markdown\n",
    "from sklearn.metrics import roc_curve, auc, RocCurveDisplay\n",
    "from sklearn.preprocessing import StandardScaler\n",
    "\n",
    "# Configurar estilo dos gráficos\n",
    "sns.set_style(\"whitegrid\")\n",
    "\n",
    "# Exibir todas as colunas do DataFrame\n",
    "pd.set_option('display.max_columns', None)\n",
    "\n",
    "# Ignorar warnings\n",
    "warnings.filterwarnings('ignore')"
   ]
  },
  {
   "cell_type": "markdown",
   "metadata": {},
   "source": [
    "# Carregar os Dados\n"
   ]
  },
  {
   "cell_type": "code",
   "execution_count": 2,
   "metadata": {},
   "outputs": [
    {
     "data": {
      "text/html": [
       "<div>\n",
       "<style scoped>\n",
       "    .dataframe tbody tr th:only-of-type {\n",
       "        vertical-align: middle;\n",
       "    }\n",
       "\n",
       "    .dataframe tbody tr th {\n",
       "        vertical-align: top;\n",
       "    }\n",
       "\n",
       "    .dataframe thead th {\n",
       "        text-align: right;\n",
       "    }\n",
       "</style>\n",
       "<table border=\"1\" class=\"dataframe\">\n",
       "  <thead>\n",
       "    <tr style=\"text-align: right;\">\n",
       "      <th></th>\n",
       "      <th>type</th>\n",
       "      <th>fixed acidity</th>\n",
       "      <th>volatile acidity</th>\n",
       "      <th>citric acid</th>\n",
       "      <th>residual sugar</th>\n",
       "      <th>chlorides</th>\n",
       "      <th>free sulfur dioxide</th>\n",
       "      <th>total sulfur dioxide</th>\n",
       "      <th>density</th>\n",
       "      <th>pH</th>\n",
       "      <th>sulphates</th>\n",
       "      <th>alcohol</th>\n",
       "      <th>quality</th>\n",
       "    </tr>\n",
       "  </thead>\n",
       "  <tbody>\n",
       "    <tr>\n",
       "      <th>0</th>\n",
       "      <td>white</td>\n",
       "      <td>7.0</td>\n",
       "      <td>0.27</td>\n",
       "      <td>0.36</td>\n",
       "      <td>20.7</td>\n",
       "      <td>0.045</td>\n",
       "      <td>45.0</td>\n",
       "      <td>170.0</td>\n",
       "      <td>1.0010</td>\n",
       "      <td>3.00</td>\n",
       "      <td>0.45</td>\n",
       "      <td>8.8</td>\n",
       "      <td>6</td>\n",
       "    </tr>\n",
       "    <tr>\n",
       "      <th>1</th>\n",
       "      <td>white</td>\n",
       "      <td>6.3</td>\n",
       "      <td>0.30</td>\n",
       "      <td>0.34</td>\n",
       "      <td>1.6</td>\n",
       "      <td>0.049</td>\n",
       "      <td>14.0</td>\n",
       "      <td>132.0</td>\n",
       "      <td>0.9940</td>\n",
       "      <td>3.30</td>\n",
       "      <td>0.49</td>\n",
       "      <td>9.5</td>\n",
       "      <td>6</td>\n",
       "    </tr>\n",
       "    <tr>\n",
       "      <th>2</th>\n",
       "      <td>white</td>\n",
       "      <td>8.1</td>\n",
       "      <td>0.28</td>\n",
       "      <td>0.40</td>\n",
       "      <td>6.9</td>\n",
       "      <td>0.050</td>\n",
       "      <td>30.0</td>\n",
       "      <td>97.0</td>\n",
       "      <td>0.9951</td>\n",
       "      <td>3.26</td>\n",
       "      <td>0.44</td>\n",
       "      <td>10.1</td>\n",
       "      <td>6</td>\n",
       "    </tr>\n",
       "    <tr>\n",
       "      <th>3</th>\n",
       "      <td>white</td>\n",
       "      <td>7.2</td>\n",
       "      <td>0.23</td>\n",
       "      <td>0.32</td>\n",
       "      <td>8.5</td>\n",
       "      <td>0.058</td>\n",
       "      <td>47.0</td>\n",
       "      <td>186.0</td>\n",
       "      <td>0.9956</td>\n",
       "      <td>3.19</td>\n",
       "      <td>0.40</td>\n",
       "      <td>9.9</td>\n",
       "      <td>6</td>\n",
       "    </tr>\n",
       "    <tr>\n",
       "      <th>4</th>\n",
       "      <td>white</td>\n",
       "      <td>7.2</td>\n",
       "      <td>0.23</td>\n",
       "      <td>0.32</td>\n",
       "      <td>8.5</td>\n",
       "      <td>0.058</td>\n",
       "      <td>47.0</td>\n",
       "      <td>186.0</td>\n",
       "      <td>0.9956</td>\n",
       "      <td>3.19</td>\n",
       "      <td>0.40</td>\n",
       "      <td>9.9</td>\n",
       "      <td>6</td>\n",
       "    </tr>\n",
       "  </tbody>\n",
       "</table>\n",
       "</div>"
      ],
      "text/plain": [
       "    type  fixed acidity  volatile acidity  citric acid  residual sugar  \\\n",
       "0  white            7.0              0.27         0.36            20.7   \n",
       "1  white            6.3              0.30         0.34             1.6   \n",
       "2  white            8.1              0.28         0.40             6.9   \n",
       "3  white            7.2              0.23         0.32             8.5   \n",
       "4  white            7.2              0.23         0.32             8.5   \n",
       "\n",
       "   chlorides  free sulfur dioxide  total sulfur dioxide  density    pH  \\\n",
       "0      0.045                 45.0                 170.0   1.0010  3.00   \n",
       "1      0.049                 14.0                 132.0   0.9940  3.30   \n",
       "2      0.050                 30.0                  97.0   0.9951  3.26   \n",
       "3      0.058                 47.0                 186.0   0.9956  3.19   \n",
       "4      0.058                 47.0                 186.0   0.9956  3.19   \n",
       "\n",
       "   sulphates  alcohol  quality  \n",
       "0       0.45      8.8        6  \n",
       "1       0.49      9.5        6  \n",
       "2       0.44     10.1        6  \n",
       "3       0.40      9.9        6  \n",
       "4       0.40      9.9        6  "
      ]
     },
     "execution_count": 2,
     "metadata": {},
     "output_type": "execute_result"
    }
   ],
   "source": [
    "# Carregar e Preparar os Dados\n",
    "\n",
    "# Carregar o dataset\n",
    "df = pd.read_csv('..\\\\dataset\\\\winequalityN.csv')\n",
    "\n",
    "df.head()"
   ]
  },
  {
   "cell_type": "markdown",
   "metadata": {},
   "source": [
    "# Identificar quais são as variáveis presentes na base, os tipos de variáveis (discreta, categórica, contínua), as médias e desvios padrões"
   ]
  },
  {
   "cell_type": "code",
   "execution_count": 3,
   "metadata": {},
   "outputs": [
    {
     "name": "stdout",
     "output_type": "stream",
     "text": [
      "type: Categórica\n",
      "fixed acidity: Contínua\n",
      "volatile acidity: Contínua\n",
      "citric acid: Contínua\n",
      "residual sugar: Contínua\n",
      "chlorides: Contínua\n",
      "free sulfur dioxide: Contínua\n",
      "total sulfur dioxide: Contínua\n",
      "density: Contínua\n",
      "pH: Contínua\n",
      "sulphates: Contínua\n",
      "alcohol: Contínua\n",
      "quality: Discreta\n",
      "### Estatísticas Descritivas do Dataset\n"
     ]
    },
    {
     "data": {
      "text/html": [
       "<div>\n",
       "<style scoped>\n",
       "    .dataframe tbody tr th:only-of-type {\n",
       "        vertical-align: middle;\n",
       "    }\n",
       "\n",
       "    .dataframe tbody tr th {\n",
       "        vertical-align: top;\n",
       "    }\n",
       "\n",
       "    .dataframe thead th {\n",
       "        text-align: right;\n",
       "    }\n",
       "</style>\n",
       "<table border=\"1\" class=\"dataframe\">\n",
       "  <thead>\n",
       "    <tr style=\"text-align: right;\">\n",
       "      <th></th>\n",
       "      <th>fixed acidity</th>\n",
       "      <th>volatile acidity</th>\n",
       "      <th>citric acid</th>\n",
       "      <th>residual sugar</th>\n",
       "      <th>chlorides</th>\n",
       "      <th>free sulfur dioxide</th>\n",
       "      <th>total sulfur dioxide</th>\n",
       "      <th>density</th>\n",
       "      <th>pH</th>\n",
       "      <th>sulphates</th>\n",
       "      <th>alcohol</th>\n",
       "      <th>quality</th>\n",
       "    </tr>\n",
       "  </thead>\n",
       "  <tbody>\n",
       "    <tr>\n",
       "      <th>count</th>\n",
       "      <td>6487.000000</td>\n",
       "      <td>6489.000000</td>\n",
       "      <td>6494.000000</td>\n",
       "      <td>6495.000000</td>\n",
       "      <td>6495.000000</td>\n",
       "      <td>6497.000000</td>\n",
       "      <td>6497.000000</td>\n",
       "      <td>6497.000000</td>\n",
       "      <td>6488.000000</td>\n",
       "      <td>6493.000000</td>\n",
       "      <td>6497.000000</td>\n",
       "      <td>6497.000000</td>\n",
       "    </tr>\n",
       "    <tr>\n",
       "      <th>mean</th>\n",
       "      <td>7.216579</td>\n",
       "      <td>0.339691</td>\n",
       "      <td>0.318722</td>\n",
       "      <td>5.444326</td>\n",
       "      <td>0.056042</td>\n",
       "      <td>30.525319</td>\n",
       "      <td>115.744574</td>\n",
       "      <td>0.994697</td>\n",
       "      <td>3.218395</td>\n",
       "      <td>0.531215</td>\n",
       "      <td>10.491801</td>\n",
       "      <td>5.818378</td>\n",
       "    </tr>\n",
       "    <tr>\n",
       "      <th>std</th>\n",
       "      <td>1.296750</td>\n",
       "      <td>0.164649</td>\n",
       "      <td>0.145265</td>\n",
       "      <td>4.758125</td>\n",
       "      <td>0.035036</td>\n",
       "      <td>17.749400</td>\n",
       "      <td>56.521855</td>\n",
       "      <td>0.002999</td>\n",
       "      <td>0.160748</td>\n",
       "      <td>0.148814</td>\n",
       "      <td>1.192712</td>\n",
       "      <td>0.873255</td>\n",
       "    </tr>\n",
       "    <tr>\n",
       "      <th>min</th>\n",
       "      <td>3.800000</td>\n",
       "      <td>0.080000</td>\n",
       "      <td>0.000000</td>\n",
       "      <td>0.600000</td>\n",
       "      <td>0.009000</td>\n",
       "      <td>1.000000</td>\n",
       "      <td>6.000000</td>\n",
       "      <td>0.987110</td>\n",
       "      <td>2.720000</td>\n",
       "      <td>0.220000</td>\n",
       "      <td>8.000000</td>\n",
       "      <td>3.000000</td>\n",
       "    </tr>\n",
       "    <tr>\n",
       "      <th>25%</th>\n",
       "      <td>6.400000</td>\n",
       "      <td>0.230000</td>\n",
       "      <td>0.250000</td>\n",
       "      <td>1.800000</td>\n",
       "      <td>0.038000</td>\n",
       "      <td>17.000000</td>\n",
       "      <td>77.000000</td>\n",
       "      <td>0.992340</td>\n",
       "      <td>3.110000</td>\n",
       "      <td>0.430000</td>\n",
       "      <td>9.500000</td>\n",
       "      <td>5.000000</td>\n",
       "    </tr>\n",
       "    <tr>\n",
       "      <th>50%</th>\n",
       "      <td>7.000000</td>\n",
       "      <td>0.290000</td>\n",
       "      <td>0.310000</td>\n",
       "      <td>3.000000</td>\n",
       "      <td>0.047000</td>\n",
       "      <td>29.000000</td>\n",
       "      <td>118.000000</td>\n",
       "      <td>0.994890</td>\n",
       "      <td>3.210000</td>\n",
       "      <td>0.510000</td>\n",
       "      <td>10.300000</td>\n",
       "      <td>6.000000</td>\n",
       "    </tr>\n",
       "    <tr>\n",
       "      <th>75%</th>\n",
       "      <td>7.700000</td>\n",
       "      <td>0.400000</td>\n",
       "      <td>0.390000</td>\n",
       "      <td>8.100000</td>\n",
       "      <td>0.065000</td>\n",
       "      <td>41.000000</td>\n",
       "      <td>156.000000</td>\n",
       "      <td>0.996990</td>\n",
       "      <td>3.320000</td>\n",
       "      <td>0.600000</td>\n",
       "      <td>11.300000</td>\n",
       "      <td>6.000000</td>\n",
       "    </tr>\n",
       "    <tr>\n",
       "      <th>max</th>\n",
       "      <td>15.900000</td>\n",
       "      <td>1.580000</td>\n",
       "      <td>1.660000</td>\n",
       "      <td>65.800000</td>\n",
       "      <td>0.611000</td>\n",
       "      <td>289.000000</td>\n",
       "      <td>440.000000</td>\n",
       "      <td>1.038980</td>\n",
       "      <td>4.010000</td>\n",
       "      <td>2.000000</td>\n",
       "      <td>14.900000</td>\n",
       "      <td>9.000000</td>\n",
       "    </tr>\n",
       "  </tbody>\n",
       "</table>\n",
       "</div>"
      ],
      "text/plain": [
       "       fixed acidity  volatile acidity  citric acid  residual sugar  \\\n",
       "count    6487.000000       6489.000000  6494.000000     6495.000000   \n",
       "mean        7.216579          0.339691     0.318722        5.444326   \n",
       "std         1.296750          0.164649     0.145265        4.758125   \n",
       "min         3.800000          0.080000     0.000000        0.600000   \n",
       "25%         6.400000          0.230000     0.250000        1.800000   \n",
       "50%         7.000000          0.290000     0.310000        3.000000   \n",
       "75%         7.700000          0.400000     0.390000        8.100000   \n",
       "max        15.900000          1.580000     1.660000       65.800000   \n",
       "\n",
       "         chlorides  free sulfur dioxide  total sulfur dioxide      density  \\\n",
       "count  6495.000000          6497.000000           6497.000000  6497.000000   \n",
       "mean      0.056042            30.525319            115.744574     0.994697   \n",
       "std       0.035036            17.749400             56.521855     0.002999   \n",
       "min       0.009000             1.000000              6.000000     0.987110   \n",
       "25%       0.038000            17.000000             77.000000     0.992340   \n",
       "50%       0.047000            29.000000            118.000000     0.994890   \n",
       "75%       0.065000            41.000000            156.000000     0.996990   \n",
       "max       0.611000           289.000000            440.000000     1.038980   \n",
       "\n",
       "                pH    sulphates      alcohol      quality  \n",
       "count  6488.000000  6493.000000  6497.000000  6497.000000  \n",
       "mean      3.218395     0.531215    10.491801     5.818378  \n",
       "std       0.160748     0.148814     1.192712     0.873255  \n",
       "min       2.720000     0.220000     8.000000     3.000000  \n",
       "25%       3.110000     0.430000     9.500000     5.000000  \n",
       "50%       3.210000     0.510000    10.300000     6.000000  \n",
       "75%       3.320000     0.600000    11.300000     6.000000  \n",
       "max       4.010000     2.000000    14.900000     9.000000  "
      ]
     },
     "metadata": {},
     "output_type": "display_data"
    }
   ],
   "source": [
    "# Função para determinar o tipo de variável\n",
    "def determinar_tipo_variavel(df):\n",
    "    tipos_variaveis = {}\n",
    "    for coluna in df.columns:\n",
    "        if df[coluna].dtype == 'object' or df[coluna].dtype.name == 'category':\n",
    "            tipos_variaveis[coluna] = 'Categórica'\n",
    "        elif df[coluna].dtype in ['int64', 'float64']:\n",
    "            num_valores_unicos = df[coluna].nunique()\n",
    "            if num_valores_unicos < 20:  # Limite arbitrário para considerar uma variável como discreta\n",
    "                tipos_variaveis[coluna] = 'Discreta'\n",
    "            else:\n",
    "                tipos_variaveis[coluna] = 'Contínua'\n",
    "        else:\n",
    "            tipos_variaveis[coluna] = 'Outro'\n",
    "    return tipos_variaveis\n",
    "\n",
    "# Determinar o tipo de cada variável\n",
    "tipos_variaveis = determinar_tipo_variavel(df)\n",
    "\n",
    "for coluna, tipo in tipos_variaveis.items():\n",
    "    print(f'{coluna}: {tipo}')\n",
    "\n",
    "# # Descrever as Variáveis\n",
    "print(\"### Estatísticas Descritivas do Dataset\")\n",
    "display(df.describe())"
   ]
  },
  {
   "cell_type": "markdown",
   "metadata": {},
   "source": [
    "Análise Exploratória de Dados"
   ]
  },
  {
   "cell_type": "code",
   "execution_count": 4,
   "metadata": {},
   "outputs": [
    {
     "name": "stdout",
     "output_type": "stream",
     "text": [
      "### Verificação de Valores Ausentes\n"
     ]
    },
    {
     "data": {
      "text/plain": [
       "type                     0\n",
       "fixed acidity           10\n",
       "volatile acidity         8\n",
       "citric acid              3\n",
       "residual sugar           2\n",
       "chlorides                2\n",
       "free sulfur dioxide      0\n",
       "total sulfur dioxide     0\n",
       "density                  0\n",
       "pH                       9\n",
       "sulphates                4\n",
       "alcohol                  0\n",
       "quality                  0\n",
       "dtype: int64"
      ]
     },
     "metadata": {},
     "output_type": "display_data"
    },
    {
     "name": "stdout",
     "output_type": "stream",
     "text": [
      "### Distribuição das Variáveis Numéricas\n"
     ]
    },
    {
     "data": {
      "text/plain": [
       "<Figure size 1500x1000 with 0 Axes>"
      ]
     },
     "metadata": {},
     "output_type": "display_data"
    },
    {
     "data": {
      "image/png": "[encoded data removed]",
      "text/plain": [
       "<Figure size 1500x1000 with 12 Axes>"
      ]
     },
     "metadata": {},
     "output_type": "display_data"
    }
   ],
   "source": [
    "print(\"### Verificação de Valores Ausentes\")\n",
    "display(df.isnull().sum())\n",
    "\n",
    "# Visualizando a distribuição das variáveis numéricas\n",
    "print(\"### Distribuição das Variáveis Numéricas\")\n",
    "plt.figure(figsize=(15, 10))\n",
    "df.hist(bins=30, edgecolor='black', linewidth=1.2, figsize=(15, 10))\n",
    "plt.tight_layout()\n",
    "plt.show()"
   ]
  },
  {
   "cell_type": "markdown",
   "metadata": {},
   "source": [
    "# Preparar os dados para classificação\n",
    "Filtrar apenas os vinhos brancos, criar a variável 'opinion', e descartar as variáveis 'quality' e 'type' e tratar valores ausentes e dupliados"
   ]
  },
  {
   "cell_type": "code",
   "execution_count": 5,
   "metadata": {},
   "outputs": [],
   "source": [
    "def prepare_data(type_wine):\n",
    "    # # Filtrar apenas os vinhos brancos\n",
    "    df_wine = df[df['type'] == type_wine]\n",
    "\n",
    "    # # Criar a variável 'opinion'\n",
    "    df_wine['opinion'] = np.where(df_wine['quality'] <= 5, 0, 1)\n",
    "\n",
    "    # # Descartar a variável 'quality'A\n",
    "    df_wine = df_wine.drop(columns=['quality'])\n",
    "\n",
    "    # # Descartar a variável 'type, já que só vamos trabalhar com vinhos brancos'\n",
    "    df_wine = df_wine.drop(columns=['type'])\n",
    "\n",
    "    # Imputar valores ausentes com a média das colunas\n",
    "    imputer = SimpleImputer(strategy='mean')\n",
    "    df_wine = pd.DataFrame(imputer.fit_transform(df_wine), columns=df_wine.columns)\n",
    "\n",
    "    # Verificar o dataset após o tratamento\n",
    "    print(\"### Verificação de Valores Ausentes\")\n",
    "    print(df_wine.isnull().sum())\n",
    "    print(f\"Número de linhas duplicadas: {df_wine.duplicated().sum()}\")\n",
    "\n",
    "    return df_wine"
   ]
  },
  {
   "cell_type": "markdown",
   "metadata": {},
   "source": [
    "# Etapas para Criar um Modelo de Classificação Eficiente\n",
    "Descrever as etapas necessárias para criar um modelo de classificação eficiente."
   ]
  },
  {
   "cell_type": "code",
   "execution_count": 6,
   "metadata": {},
   "outputs": [
    {
     "data": {
      "text/markdown": [
       "\n",
       "### Etapas para Criar um Modelo de Classificação Eficiente\n",
       "\n",
       "1. **Entendimento do Problema**\n",
       "   - Definir o objetivo do modelo de classificação.\n",
       "   - Identificar as variáveis independentes (features) e a variável dependente (target).\n",
       "\n",
       "2. **Coleta e Preparação dos Dados**\n",
       "   - Carregar o dataset.\n",
       "   - Filtrar os dados relevantes (neste caso, apenas vinhos brancos).\n",
       "   - Criar a variável categórica 'opinion' baseada na variável 'quality'.\n",
       "   - Descartar a variável 'quality' após a criação da variável 'opinion'.\n",
       "   - Tratar valores ausentes, se houver.\n",
       "   - Normalizar ou padronizar os dados, se necessário.\n",
       "\n",
       "3. **Análise Exploratória dos Dados (EDA)**\n",
       "   - Analisar a distribuição das variáveis.\n",
       "   - Identificar possíveis correlações entre as variáveis.\n",
       "   - Visualizar os dados usando gráficos.\n",
       "\n",
       "4. **Divisão dos Dados**\n",
       "    - Utilizar validação cruzada para avaliar o desempenho do modelo.\n",
       "\n",
       "5. **Treinamento do Modelo**\n",
       "   - Escolher algoritmos de classificação adequados (Regressão Logística, Árvore de Decisão, SVM).\n",
       "  \n",
       "6. **Avaliação do Modelo**\n",
       "   - Avaliar o desempenho dos modelos usando métricas como acurácia, precisão, recall e f1-score.\n",
       "   - Utilizar validação cruzada estratificada com k-folds (k=10) para obter uma avaliação mais robusta.\n",
       "\n",
       "7. **Comparação de Modelos**\n",
       "   - Comparar o desempenho dos diferentes modelos treinados.\n",
       "   - Utilizar a curva ROC e a área sob a curva (AUC) para comparar os modelos.\n",
       "\n",
       "8. **Seleção do Melhor Modelo**\n",
       "    - Selecionar o modelo com melhor desempenho para a tarefa de classificação.\n",
       "    - Justificar a escolha do modelo baseado nas métricas de avaliação.\n",
       "\n",
       "9. **Inferência em Novos Dados**\n",
       "    - Utilizar o modelo selecionado para fazer previsões em novos dados (neste caso, vinhos tintos).\n",
       "    - Avaliar se o modelo funciona bem para os novos dados e justificar a análise.\n"
      ],
      "text/plain": [
       "<IPython.core.display.Markdown object>"
      ]
     },
     "metadata": {},
     "output_type": "display_data"
    }
   ],
   "source": [
    "# Etapas para Criar um Modelo de Classificação Eficiente\n",
    "\n",
    "etapas_md = \"\"\"\n",
    "### Etapas para Criar um Modelo de Classificação Eficiente\n",
    "\n",
    "1. **Entendimento do Problema**\n",
    "   - Definir o objetivo do modelo de classificação.\n",
    "   - Identificar as variáveis independentes (features) e a variável dependente (target).\n",
    "\n",
    "2. **Coleta e Preparação dos Dados**\n",
    "   - Carregar o dataset.\n",
    "   - Filtrar os dados relevantes (neste caso, apenas vinhos brancos).\n",
    "   - Criar a variável categórica 'opinion' baseada na variável 'quality'.\n",
    "   - Descartar a variável 'quality' após a criação da variável 'opinion'.\n",
    "   - Tratar valores ausentes, se houver.\n",
    "   - Normalizar ou padronizar os dados, se necessário.\n",
    "\n",
    "3. **Análise Exploratória dos Dados (EDA)**\n",
    "   - Analisar a distribuição das variáveis.\n",
    "   - Identificar possíveis correlações entre as variáveis.\n",
    "   - Visualizar os dados usando gráficos.\n",
    "\n",
    "4. **Divisão dos Dados**\n",
    "    - Utilizar validação cruzada para avaliar o desempenho do modelo.\n",
    "\n",
    "5. **Treinamento do Modelo**\n",
    "   - Escolher algoritmos de classificação adequados (Regressão Logística, Árvore de Decisão, SVM).\n",
    "  \n",
    "6. **Avaliação do Modelo**\n",
    "   - Avaliar o desempenho dos modelos usando métricas como acurácia, precisão, recall e f1-score.\n",
    "   - Utilizar validação cruzada estratificada com k-folds (k=10) para obter uma avaliação mais robusta.\n",
    "\n",
    "7. **Comparação de Modelos**\n",
    "   - Comparar o desempenho dos diferentes modelos treinados.\n",
    "   - Utilizar a curva ROC e a área sob a curva (AUC) para comparar os modelos.\n",
    "\n",
    "8. **Seleção do Melhor Modelo**\n",
    "    - Selecionar o modelo com melhor desempenho para a tarefa de classificação.\n",
    "    - Justificar a escolha do modelo baseado nas métricas de avaliação.\n",
    "\n",
    "9. **Inferência em Novos Dados**\n",
    "    - Utilizar o modelo selecionado para fazer previsões em novos dados (neste caso, vinhos tintos).\n",
    "    - Avaliar se o modelo funciona bem para os novos dados e justificar a análise.\n",
    "\"\"\"\n",
    "\n",
    "display(Markdown(etapas_md))"
   ]
  },
  {
   "cell_type": "markdown",
   "metadata": {},
   "source": [
    "# Treinar e avaliar os Modelos\n",
    "Treinar e avaliar o modelo usando validação cruzada estratificada com k-folds (k=10)."
   ]
  },
  {
   "cell_type": "code",
   "execution_count": 7,
   "metadata": {},
   "outputs": [],
   "source": [
    "def evaluate_model(model, features, target, cv):\n",
    "    # Obter a acurácia dos modelos obtidos\n",
    "    accuracy_scores = cross_val_score(model, features, target, cv=cv, scoring='accuracy')\n",
    "    # Obter o precisão dos modelos obtidos\n",
    "    precision_scores = cross_val_score(model, features, target, cv=cv, scoring='precision')\n",
    "    # Obter o recall dos modelos obtidos\n",
    "    recall_scores = cross_val_score(model, features, target, cv=cv, scoring='recall')\n",
    "    # Obter o f1-score dos modelos obtidos\n",
    "    f1_scores = cross_val_score(model, features, target, cv=cv, scoring='f1')\n",
    "\n",
    "    # Calcular a média e desvio padrão das métricas\n",
    "    accuracy_mean = np.mean(accuracy_scores)\n",
    "    accuracy_std = np.std(accuracy_scores)\n",
    "    precision_mean = np.mean(precision_scores)\n",
    "    precision_std = np.std(precision_scores)\n",
    "    recall_mean = np.mean(recall_scores)\n",
    "    recall_std = np.std(recall_scores)\n",
    "    \n",
    "    f1_mean = np.mean(f1_scores)\n",
    "    f1_std = np.std(f1_scores)\n",
    "\n",
    "    # Exibir os resultados d\n",
    "    print(f\"Média e desvio padrão da Acurácia: {accuracy_mean:.4f} ± {accuracy_std:.4f}\")\n",
    "    print(f\"Média e desvio padrão da da Precisão: {precision_mean:.4f} ± {precision_std:.4f}\")\n",
    "    print(f\"Média e desvio padrão da do Recall: {recall_mean:.4f} ± {recall_std:.4f}\")\n",
    "    print(f\"Média e desvio padrão da do F1-Score: {f1_mean:.4f} ± {f1_std:.4f}\")\n",
    "\n",
    "    # Retornar o modelo ajustado\n",
    "    return model\n"
   ]
  },
  {
   "cell_type": "markdown",
   "metadata": {},
   "source": [
    "# Obter os dados preparados para os vinhos brancos"
   ]
  },
  {
   "cell_type": "code",
   "execution_count": 8,
   "metadata": {},
   "outputs": [
    {
     "name": "stdout",
     "output_type": "stream",
     "text": [
      "### Verificação de Valores Ausentes\n",
      "fixed acidity           0\n",
      "volatile acidity        0\n",
      "citric acid             0\n",
      "residual sugar          0\n",
      "chlorides               0\n",
      "free sulfur dioxide     0\n",
      "total sulfur dioxide    0\n",
      "density                 0\n",
      "pH                      0\n",
      "sulphates               0\n",
      "alcohol                 0\n",
      "opinion                 0\n",
      "dtype: int64\n",
      "Número de linhas duplicadas: 928\n"
     ]
    },
    {
     "data": {
      "text/plain": [
       "<bound method NDFrame.head of       fixed acidity  volatile acidity  citric acid  residual sugar  chlorides  \\\n",
       "0               7.0          0.270000         0.36            20.7      0.045   \n",
       "1               6.3          0.300000         0.34             1.6      0.049   \n",
       "2               8.1          0.280000         0.40             6.9      0.050   \n",
       "3               7.2          0.230000         0.32             8.5      0.058   \n",
       "4               7.2          0.230000         0.32             8.5      0.058   \n",
       "...             ...               ...          ...             ...        ...   \n",
       "4893            6.2          0.210000         0.29             1.6      0.039   \n",
       "4894            6.6          0.320000         0.36             8.0      0.047   \n",
       "4895            6.5          0.278252         0.19             1.2      0.041   \n",
       "4896            5.5          0.290000         0.30             1.1      0.022   \n",
       "4897            6.0          0.210000         0.38             0.8      0.020   \n",
       "\n",
       "      free sulfur dioxide  total sulfur dioxide  density    pH  sulphates  \\\n",
       "0                    45.0                 170.0  1.00100  3.00       0.45   \n",
       "1                    14.0                 132.0  0.99400  3.30       0.49   \n",
       "2                    30.0                  97.0  0.99510  3.26       0.44   \n",
       "3                    47.0                 186.0  0.99560  3.19       0.40   \n",
       "4                    47.0                 186.0  0.99560  3.19       0.40   \n",
       "...                   ...                   ...      ...   ...        ...   \n",
       "4893                 24.0                  92.0  0.99114  3.27       0.50   \n",
       "4894                 57.0                 168.0  0.99490  3.15       0.46   \n",
       "4895                 30.0                 111.0  0.99254  2.99       0.46   \n",
       "4896                 20.0                 110.0  0.98869  3.34       0.38   \n",
       "4897                 22.0                  98.0  0.98941  3.26       0.32   \n",
       "\n",
       "      alcohol  opinion  \n",
       "0         8.8      1.0  \n",
       "1         9.5      1.0  \n",
       "2        10.1      1.0  \n",
       "3         9.9      1.0  \n",
       "4         9.9      1.0  \n",
       "...       ...      ...  \n",
       "4893     11.2      1.0  \n",
       "4894      9.6      0.0  \n",
       "4895      9.4      1.0  \n",
       "4896     12.8      1.0  \n",
       "4897     11.8      1.0  \n",
       "\n",
       "[4898 rows x 12 columns]>"
      ]
     },
     "execution_count": 8,
     "metadata": {},
     "output_type": "execute_result"
    }
   ],
   "source": [
    "#Obter os dados preparados para os vinhos brancos\n",
    "df_white = prepare_data('white')\n",
    "df_white.head"
   ]
  },
  {
   "cell_type": "markdown",
   "metadata": {},
   "source": [
    "# Criar, treinar e avaliar os modelos para os vinhos brancos\n",
    "Treinar um modelo de Regressão Logística, Árvore de decisão e SVM, usando validação cruzada estratificada com k-folds (k=10)."
   ]
  },
  {
   "cell_type": "code",
   "execution_count": 9,
   "metadata": {},
   "outputs": [
    {
     "name": "stdout",
     "output_type": "stream",
     "text": [
      "Regressão Logística\n",
      "Média e desvio padrão da Acurácia: 0.7470 ± 0.0142\n",
      "Média e desvio padrão da da Precisão: 0.7749 ± 0.0167\n",
      "Média e desvio padrão da do Recall: 0.8745 ± 0.0175\n",
      "Média e desvio padrão da do F1-Score: 0.8214 ± 0.0089\n",
      "\n",
      "\n",
      "Árvore de decisão\n",
      "Média e desvio padrão da Acurácia: 0.7942 ± 0.0248\n",
      "Média e desvio padrão da da Precisão: 0.8473 ± 0.0166\n",
      "Média e desvio padrão da do Recall: 0.8425 ± 0.0312\n",
      "Média e desvio padrão da do F1-Score: 0.8447 ± 0.0202\n",
      "\n",
      "\n",
      "Support Vector Machine\n",
      "Média e desvio padrão da Acurácia: 0.7511 ± 0.0128\n",
      "Média e desvio padrão da da Precisão: 0.7698 ± 0.0102\n",
      "Média e desvio padrão da do Recall: 0.8932 ± 0.0232\n",
      "Média e desvio padrão da do F1-Score: 0.8267 ± 0.0102\n",
      "\n",
      "\n"
     ]
    }
   ],
   "source": [
    "# Separar as features e o target\n",
    "X = df_white.drop(columns=['opinion'])\n",
    "y = df_white['opinion']\n",
    "\n",
    "# Configurar a validação cruzada estratificada com k-folds (k=10)\n",
    "kf = StratifiedKFold(n_splits=10, shuffle=True, random_state=42)\n",
    "\n",
    "models = {\n",
    "    \"Regressão Logística\": (LogisticRegression(max_iter=1000, random_state=42)),\n",
    "    \"Árvore de decisão\": (DecisionTreeClassifier(random_state=42)),\n",
    "    \"Support Vector Machine\": (SVC(kernel='linear', random_state=42,probability=True))\n",
    "}\n",
    "\n",
    "for name, model in models.items():\n",
    "    print(name)\n",
    "    evaluate_model(model, X, y, kf)\n",
    "    print(\"\\n\")\n"
   ]
  },
  {
   "cell_type": "markdown",
   "metadata": {},
   "source": [
    "# Comparar Modelos e Escolher o Melhor\n",
    "Comparar os modelos treinados e escolher o melhor baseado na curva ROC média."
   ]
  },
  {
   "cell_type": "code",
   "execution_count": 10,
   "metadata": {},
   "outputs": [
    {
     "data": {
      "image/png": "[encoded data removed]",
      "text/plain": [
       "<Figure size 640x480 with 1 Axes>"
      ]
     },
     "metadata": {},
     "output_type": "display_data"
    },
    {
     "name": "stdout",
     "output_type": "stream",
     "text": [
      "O melhor modelo baseado na AUC média é: Regressão Logística com AUC = 0.80\n"
     ]
    }
   ],
   "source": [
    "mean_auc_dict = {}\n",
    "colors = ['blue', 'green', 'red', 'orange']  # Diferentes cores para cada modelo\n",
    "\n",
    "for nome_modelo, modelo in models.items():\n",
    "    tprs = []\n",
    "    aucs = []\n",
    "    mean_fpr = np.linspace(0, 1, 100)\n",
    "    \n",
    "    for train, test in kf.split(X, y):\n",
    "        modelo.fit(X.iloc[train], y.iloc[train])\n",
    "        probas_ = modelo.predict_proba(X.iloc[test])\n",
    "\n",
    "        fpr, tpr, thresholds = roc_curve(y.iloc[test], probas_[:, 1])\n",
    "        tprs.append(np.interp(mean_fpr, fpr, tpr))\n",
    "        tprs[-1][0] = 0.0\n",
    "        roc_auc = auc(fpr, tpr)\n",
    "        aucs.append(roc_auc)\n",
    "    \n",
    "    mean_tpr = np.mean(tprs, axis=0)\n",
    "    mean_tpr[-1] = 1.0\n",
    "    mean_auc = auc(mean_fpr, mean_tpr)\n",
    "    std_auc = np.std(aucs)\n",
    "    \n",
    "    mean_auc_dict[nome_modelo] = mean_auc  # Armazenar a AUC média no dicionário\n",
    "    \n",
    "    plt.plot(mean_fpr, mean_tpr, label=f'{nome_modelo} (AUC = {mean_auc:.2f} ± {std_auc:.2f})')\n",
    "    \n",
    "plt.plot([0, 1], [0, 1], linestyle='--', color='gray')\n",
    "plt.xlabel('False Positive Rate')\n",
    "plt.ylabel('True Positive Rate')\n",
    "plt.title('Curva ROC Média para Cada Modelo')\n",
    "plt.legend(loc='lower right')\n",
    "plt.show()\n",
    "\n",
    "# Escolha o melhor modelo com base na AUC média\n",
    "best_model = max(mean_auc_dict, key=mean_auc_dict.get)\n",
    "print(f'O melhor modelo baseado na AUC média é: {best_model} com AUC = {mean_auc_dict[best_model]:.2f}')"
   ]
  },
  {
   "cell_type": "markdown",
   "metadata": {},
   "source": [
    "# Inferência com Dados de Vinho Tinto\n",
    "Usar o melhor modelo para inferir a qualidade dos vinhos tintos e comparar o desempenho."
   ]
  },
  {
   "cell_type": "code",
   "execution_count": 11,
   "metadata": {},
   "outputs": [
    {
     "name": "stdout",
     "output_type": "stream",
     "text": [
      "### Verificação de Valores Ausentes\n",
      "fixed acidity           0\n",
      "volatile acidity        0\n",
      "citric acid             0\n",
      "residual sugar          0\n",
      "chlorides               0\n",
      "free sulfur dioxide     0\n",
      "total sulfur dioxide    0\n",
      "density                 0\n",
      "pH                      0\n",
      "sulphates               0\n",
      "alcohol                 0\n",
      "opinion                 0\n",
      "dtype: int64\n",
      "Número de linhas duplicadas: 240\n"
     ]
    }
   ],
   "source": [
    "#Obter os dados preparados para os vinhos tintos\n",
    "df_red = prepare_data('red')"
   ]
  },
  {
   "cell_type": "code",
   "execution_count": 12,
   "metadata": {},
   "outputs": [
    {
     "name": "stdout",
     "output_type": "stream",
     "text": [
      "Usando o modelo LogisticRegression(max_iter=1000, random_state=42) para inferir a qualidade dos vinhos tintos...\n",
      "Quantidade de vinhos bons: 490.0\n",
      "Quantidade de vinhos ruins: 1109.0\n"
     ]
    },
    {
     "data": {
      "text/markdown": [
       "\n",
       "### Inferência com Dados de Vinho Tinto\n",
       "\n",
       "- **Quantidade de vinhos bons:** 490.0\n",
       "- **Quantidade de vinhos ruins:** 1109.0\n"
      ],
      "text/plain": [
       "<IPython.core.display.Markdown object>"
      ]
     },
     "metadata": {},
     "output_type": "display_data"
    },
    {
     "name": "stdout",
     "output_type": "stream",
     "text": [
      "Acurácia: 0.6742\n",
      "Precisão: 0.8408\n",
      "Recall: 0.4819\n",
      "F1-Score: 0.6126\n"
     ]
    },
    {
     "data": {
      "text/markdown": [
       "\n",
       "### Justificativa\n",
       "\n",
       "O modelo não funciona da mesma forma para as bases de vinhos brancos e tintos \n",
       "devido às diferenças nas características químicas, distribuição dos dados, possível desequilíbrio nas classes. \n",
       "Essas diferenças fazem com que o modelo tenha um desempenho significativamente pior ao classificar vinhos tintos.\n",
       "dado que o modelo foi treinado com base nos vinhos brancos.\n"
      ],
      "text/plain": [
       "<IPython.core.display.Markdown object>"
      ]
     },
     "metadata": {},
     "output_type": "display_data"
    }
   ],
   "source": [
    "# Inferência com Dados de Vinho Tinto\n",
    "\n",
    "# Separar as features e o target\n",
    "X = df_red.drop(columns=['opinion'])\n",
    "y = df_red['opinion']\n",
    "\n",
    "# Usar o melhor modelo para inferir a qualidade dos vinhos tintos\n",
    "model = models.get(best_model, None)\n",
    "print(f\"Usando o modelo {model} para inferir a qualidade dos vinhos tintos...\")\n",
    "y_pred_red = model.predict(X)\n",
    "\n",
    "# Calcular a quantidade de vinhos bons6 e ruins\n",
    "vinhos_bons = np.sum(y_pred_red)\n",
    "vinhos_ruins = len(y_pred_red) - vinhos_bons\n",
    "\n",
    "# Exibir os resultados\n",
    "print(f\"Quantidade de vinhos bons: {vinhos_bons}\")\n",
    "print(f\"Quantidade de vinhos ruins: {vinhos_ruins}\")\n",
    "\n",
    "# Resultados em markdown\n",
    "resultados_inferencia_md = f\"\"\"\n",
    "### Inferência com Dados de Vinho Tinto\n",
    "\n",
    "- **Quantidade de vinhos bons:** {vinhos_bons}\n",
    "- **Quantidade de vinhos ruins:** {vinhos_ruins}\n",
    "\"\"\"\n",
    "\n",
    "display(Markdown(resultados_inferencia_md))\n",
    "\n",
    "# Avaliar o desempenho do modelo nos dados de vinho tinto\n",
    "accuracy_red = accuracy_score(y, y_pred_red)\n",
    "precision_red = precision_score(y, y_pred_red)\n",
    "recall_red = recall_score(y, y_pred_red)\n",
    "f1_red = f1_score(y, y_pred_red)\n",
    "\n",
    "# Exibir os resultados\n",
    "print(f\"Acurácia: {accuracy_red:.4f}\")\n",
    "print(f\"Precisão: {precision_red:.4f}\")\n",
    "print(f\"Recall: {recall_red:.4f}\")\n",
    "print(f\"F1-Score: {f1_red:.4f}\")\n",
    "\n",
    "# Justificar se o modelo funciona bem para os dados de vinho tinto\n",
    "justificativa_md = \"\"\"\n",
    "### Justificativa\n",
    "\n",
    "O modelo não funciona da mesma forma para as bases de vinhos brancos e tintos \n",
    "devido às diferenças nas características químicas, distribuição dos dados, possível desequilíbrio nas classes. \n",
    "Essas diferenças fazem com que o modelo tenha um desempenho significativamente pior ao classificar vinhos tintos.\n",
    "dado que o modelo foi treinado com base nos vinhos brancos.\n",
    "\"\"\"\n",
    "\n",
    "display(Markdown(justificativa_md))"
   ]
  }
 ],
 "metadata": {
  "kernelspec": {
   "display_name": "classification_env",
   "language": "python",
   "name": "python3"
  },
  "language_info": {
   "codemirror_mode": {
    "name": "ipython",
    "version": 3
   },
   "file_extension": ".py",
   "mimetype": "text/x-python",
   "name": "python",
   "nbconvert_exporter": "python",
   "pygments_lexer": "ipython3",
   "version": "3.12.9"
  }
 },
 "nbformat": 4,
 "nbformat_minor": 2
}
